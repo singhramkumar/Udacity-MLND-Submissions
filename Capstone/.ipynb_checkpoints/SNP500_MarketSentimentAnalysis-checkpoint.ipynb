{
 "cells": [
  {
   "cell_type": "code",
   "execution_count": 10,
   "metadata": {},
   "outputs": [],
   "source": [
    "import numpy as np\n",
    "from textblob import TextBlob\n",
    "import csv\n",
    "import tweepy\n",
    "from keras.models import Sequential\n",
    "from keras.layers import Dense\n"
   ]
  },
  {
   "cell_type": "code",
   "execution_count": 37,
   "metadata": {},
   "outputs": [
    {
     "name": "stdout",
     "output_type": "stream",
     "text": [
      "True\n"
     ]
    }
   ],
   "source": [
    "consumer_key= 'ZidJ1Sg61DDCPBMk3WbDb6UGv'\n",
    "consumer_secret= 'H4wpV85t8U3fYSAPpmxJbCoVfRDCmfxEfbDx4CEHMJRCX1ozAx'\n",
    "access_token='781708903130071040-LPYNZ7xeaEW6sBvaLe4nOxFzGTs3uRk'\n",
    "access_token_secret='ZYMAmpStPEUj5L0Y6qYYkJdX2whToXtoOzwiGhELMtjA9'\n",
    "\n",
    "auth = tweepy.OAuthHandler(consumer_key, consumer_secret)\n",
    "auth.set_access_token(access_token, access_token_secret)\n",
    "api = tweepy.API(auth)\n",
    "\n",
    "\n",
    "# Where the csv file will live\n",
    "FILE_NAME = 'stockhistory.csv'\n",
    "\n",
    "#Step 2 - Search for your company name on Twitter\n",
    "num_tweets=100\n",
    "search = 'tesla stock'\n",
    "#public_tweets = tweepy.Cursor(api.search,q=search+\" -filter:retweets\",count=num_tweets,lang=\"en\").items()\n",
    "\n",
    "#Step 3 - Define a threshold for each sentiment to classify each \n",
    "#as positive or negative. If the majority of tweets you've collected are positive\n",
    "#then use your neural network to predict a future price\n",
    "#positive, null = 0, 0\n",
    "\n",
    "for tweet in tweepy.Cursor(api.search,q=search+\" -filter:retweets\",lang=\"en\").items(num_tweets):   \n",
    "    \n",
    "    analysis = TextBlob(tweet.text,)\n",
    "       \n",
    "    blob = analysis.sentiment\n",
    "    if blob.subjectivity == 0:\n",
    "            null += 1\n",
    "            next\n",
    "    if blob.polarity > 0:\n",
    "            positive += 1\n",
    "            \n",
    "if positive > ((num_tweets - null)/2):\n",
    "    print(True)\n",
    "else:\n",
    "    print(False)\n",
    "    \n",
    "\n",
    "\n"
   ]
  },
  {
   "cell_type": "code",
   "execution_count": null,
   "metadata": {
    "collapsed": true
   },
   "outputs": [],
   "source": []
  }
 ],
 "metadata": {
  "kernelspec": {
   "display_name": "Python 3",
   "language": "python",
   "name": "python3"
  },
  "language_info": {
   "codemirror_mode": {
    "name": "ipython",
    "version": 3
   },
   "file_extension": ".py",
   "mimetype": "text/x-python",
   "name": "python",
   "nbconvert_exporter": "python",
   "pygments_lexer": "ipython3",
   "version": "3.5.0"
  }
 },
 "nbformat": 4,
 "nbformat_minor": 2
}
